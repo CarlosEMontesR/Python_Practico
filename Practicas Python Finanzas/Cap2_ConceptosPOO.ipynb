{
 "cells": [
  {
   "cell_type": "code",
   "execution_count": 11,
   "metadata": {},
   "outputs": [
    {
     "name": "stdout",
     "output_type": "stream",
     "text": [
      "Engine\n"
     ]
    }
   ],
   "source": [
    "#Crear una clase\n",
    "class Car:\n",
    "    def engine(self):\n",
    "        print(\"Engine\")\n",
    "\n",
    "Car().engine()"
   ]
  },
  {
   "cell_type": "code",
   "execution_count": 12,
   "metadata": {},
   "outputs": [],
   "source": [
    "#Crear un objeto\n",
    "toyota = Car()"
   ]
  },
  {
   "cell_type": "code",
   "execution_count": 14,
   "metadata": {},
   "outputs": [],
   "source": [
    "class Car:\n",
    "    def engine(self):\n",
    "        print(\"Engine\")\n",
    "    \n",
    "    def wheel(self):\n",
    "        print(\"Wheel\")\n",
    "\n",
    "toyota = Car()"
   ]
  },
  {
   "cell_type": "code",
   "execution_count": 16,
   "metadata": {},
   "outputs": [],
   "source": [
    "#Constructo\n",
    "class Car:\n",
    "    def __init__(self):\n",
    "        print(\"Hello I am the constructor method\")"
   ]
  },
  {
   "cell_type": "code",
   "execution_count": 17,
   "metadata": {},
   "outputs": [
    {
     "name": "stdout",
     "output_type": "stream",
     "text": [
      "Hello I am the constructor method\n"
     ]
    }
   ],
   "source": [
    "toyota = Car()"
   ]
  },
  {
   "cell_type": "code",
   "execution_count": 1,
   "metadata": {},
   "outputs": [],
   "source": [
    "class Car():\n",
    "    def __init__(self,model):\n",
    "        self.model = model #Atributos de estancia "
   ]
  },
  {
   "cell_type": "code",
   "execution_count": 2,
   "metadata": {},
   "outputs": [],
   "source": [
    "#Atributos de Clase\n",
    "class Car():\n",
    "    no_of_wheels = 4 #Atributos de clase"
   ]
  },
  {
   "cell_type": "code",
   "execution_count": 3,
   "metadata": {},
   "outputs": [],
   "source": [
    "class Vehicle:\n",
    "    def __init__(self,name):\n",
    "        self.name = name\n",
    "    \n",
    "    def getName(self):\n",
    "        return self"
   ]
  },
  {
   "cell_type": "code",
   "execution_count": 4,
   "metadata": {},
   "outputs": [],
   "source": [
    "#herencia\n",
    "class Car(Vehicle):\n",
    "    pass"
   ]
  },
  {
   "cell_type": "code",
   "execution_count": 11,
   "metadata": {},
   "outputs": [
    {
     "name": "stdout",
     "output_type": "stream",
     "text": [
      "The name of our car is Audi r8 and color is:  Silver\n"
     ]
    }
   ],
   "source": [
    "class Vehicle:\n",
    "    def __init__(self,name,color=\"Silver\"):\n",
    "        self.name = name\n",
    "        self.color = color\n",
    "    \n",
    "    def get_name(self):\n",
    "        return self.name\n",
    "    \n",
    "    def get_color(self):\n",
    "        return self.color\n",
    "\n",
    "class Car(Vehicle):\n",
    "    pass\n",
    "\n",
    "\n",
    "audi = Car(\"Audi r8\")\n",
    "print(\"The name of our car is\", audi.get_name(), \"and color is: \", audi.get_color())"
   ]
  },
  {
   "cell_type": "code",
   "execution_count": 14,
   "metadata": {},
   "outputs": [
    {
     "name": "stdout",
     "output_type": "stream",
     "text": [
      "Car description: Car name: Audir8Color: red\n",
      "Brand name: Audi\n"
     ]
    }
   ],
   "source": [
    "#Super()\n",
    "class Vehicle:\n",
    "    def __init__(self,brand_name, color):\n",
    "        self.brand_name = brand_name\n",
    "        self.color = color\n",
    "\n",
    "    def get_brand_name(self):\n",
    "        return self.brand_name\n",
    "\n",
    "class Car(Vehicle):\n",
    "    def __init__(self, brand_name, model, color):\n",
    "        super().__init__(brand_name, color)\n",
    "        self.model = model\n",
    "    \n",
    "    def get_description(self):\n",
    "        return  \"Car name: \" + self.get_brand_name() + self.model + \"Color: \" + self.color\n",
    "    \n",
    "c = Car(\"Audi\", \"r8\", \"red\")\n",
    "print(\"Car description:\", c.get_description())\n",
    "print(\"Brand name:\", c.get_brand_name())        "
   ]
  },
  {
   "cell_type": "code",
   "execution_count": 17,
   "metadata": {},
   "outputs": [
    {
     "name": "stdout",
     "output_type": "stream",
     "text": [
      "Car description:  Audi r8 is the car and it's cost is 2 cr\n"
     ]
    }
   ],
   "source": [
    "#Herencia Multiple\n",
    "class Vehicle:\n",
    "    def __init__(self, brand_name):\n",
    "        self.brand_name = brand_name\n",
    "\n",
    "    def get_brand_nanme(self):\n",
    "        return self.brand_name\n",
    "\n",
    "class Cost:\n",
    "    def __init__(self, cost):\n",
    "        self.cost = cost\n",
    "    \n",
    "    def get_cost(self):\n",
    "        return self.cost\n",
    "\n",
    "class Car(Vehicle,Cost):\n",
    "    def __init__(self, brand_name, model, cost):\n",
    "        self.model = model\n",
    "        Vehicle.__init__(self, brand_name)\n",
    "        Cost.__init__(self, cost)\n",
    "    \n",
    "    def get_description(self):\n",
    "        return self.get_brand_nanme() + \" \" + self.model + \" is the car \" + \"and it's cost is \" + self.get_cost()\n",
    "    \n",
    "\n",
    "c = Car(\"Audi\", \"r8\", \"2 cr\")\n",
    "print(\"Car description: \", c.get_description())\n",
    "\n"
   ]
  },
  {
   "cell_type": "code",
   "execution_count": 19,
   "metadata": {},
   "outputs": [
    {
     "name": "stdout",
     "output_type": "stream",
     "text": [
      "Car belongs to Audi Company.\n",
      "The Model is R8.\n",
      "The color is silver.\n",
      "Bikes belogs to pulsar company.\n",
      "The Model is dominar\n",
      "The color is black\n"
     ]
    }
   ],
   "source": [
    "#Polimorfismo\n",
    "class Car:\n",
    "    def company(self):\n",
    "        print(\"Car belongs to Audi Company.\")\n",
    "    \n",
    "    def model(self):\n",
    "        print(\"The Model is R8.\")\n",
    "    \n",
    "    def color(self):\n",
    "        print(\"The color is silver.\")\n",
    "\n",
    "class Bike:\n",
    "    def company(self):\n",
    "        print(\"Bikes belogs to pulsar company.\")\n",
    "    \n",
    "    def model(self):\n",
    "        print(\"The Model is dominar\")\n",
    "\n",
    "    def color(self):\n",
    "        print(\"The color is black\")\n",
    "\n",
    "def func(obj):\n",
    "    obj.company()\n",
    "    obj.model()\n",
    "    obj.color()\n",
    "\n",
    "car = Car()\n",
    "bike = Bike()\n",
    "\n",
    "func(car)\n",
    "func(bike)"
   ]
  },
  {
   "cell_type": "code",
   "execution_count": 20,
   "metadata": {},
   "outputs": [
    {
     "name": "stdout",
     "output_type": "stream",
     "text": [
      "<bound method Car.get_description of <__main__.Car object at 0x00000215EAD70710>>\n"
     ]
    },
    {
     "ename": "AttributeError",
     "evalue": "'Car' object has no attribute '__engine'",
     "output_type": "error",
     "traceback": [
      "\u001b[1;31m---------------------------------------------------------------------------\u001b[0m",
      "\u001b[1;31mAttributeError\u001b[0m                            Traceback (most recent call last)",
      "Cell \u001b[1;32mIn[20], line 15\u001b[0m\n\u001b[0;32m     13\u001b[0m c \u001b[38;5;241m=\u001b[39m Car()\n\u001b[0;32m     14\u001b[0m \u001b[38;5;28mprint\u001b[39m(c\u001b[38;5;241m.\u001b[39mget_description)\n\u001b[1;32m---> 15\u001b[0m \u001b[38;5;28mprint\u001b[39m(\u001b[43mc\u001b[49m\u001b[38;5;241;43m.\u001b[39;49m\u001b[43m__engine\u001b[49m)\n",
      "\u001b[1;31mAttributeError\u001b[0m: 'Car' object has no attribute '__engine'"
     ]
    }
   ],
   "source": [
    "#Encapsulación\n",
    "#EJEMPLO 1\n",
    "class Car:\n",
    "    \n",
    "    def __init__(self):\n",
    "        self.brand_name = 'Audi'\n",
    "        self.model = 'R8'\n",
    "        self.__engine = '5.2 L V10'\n",
    "    \n",
    "    def get_description(self):\n",
    "        return self.brand_name + self.model + \" is the car.\"\n",
    "\n",
    "c = Car()\n",
    "print(c.get_description)\n",
    "print(c.__engine) #Nos mandará error porque es un objeto privado"
   ]
  },
  {
   "cell_type": "code",
   "execution_count": 21,
   "metadata": {},
   "outputs": [
    {
     "name": "stdout",
     "output_type": "stream",
     "text": [
      "AudiR8 is the car\n"
     ]
    },
    {
     "ename": "AttributeError",
     "evalue": "'Car' object has no attribute '__engine'",
     "output_type": "error",
     "traceback": [
      "\u001b[1;31m---------------------------------------------------------------------------\u001b[0m",
      "\u001b[1;31mAttributeError\u001b[0m                            Traceback (most recent call last)",
      "Cell \u001b[1;32mIn[21], line 15\u001b[0m\n\u001b[0;32m     13\u001b[0m c \u001b[38;5;241m=\u001b[39m Car()\n\u001b[0;32m     14\u001b[0m \u001b[38;5;28mprint\u001b[39m(c\u001b[38;5;241m.\u001b[39mget_description())\n\u001b[1;32m---> 15\u001b[0m \u001b[38;5;28mprint\u001b[39m(\u001b[43mc\u001b[49m\u001b[38;5;241;43m.\u001b[39;49m\u001b[43m__engine\u001b[49m)\n",
      "\u001b[1;31mAttributeError\u001b[0m: 'Car' object has no attribute '__engine'"
     ]
    }
   ],
   "source": [
    "#Ejemplo 2 objetos privados\n",
    "class Car:\n",
    "    def __init__(self):\n",
    "        self.brand_name = 'Audi'\n",
    "        self.model = \"R8\"\n",
    "    \n",
    "    def __engine(self): #Asi podemos definir un metodo privado\n",
    "        return '5.2 L V10'\n",
    "    \n",
    "    def get_description(self):\n",
    "        return self.brand_name + self.model + \" is the car\"\n",
    "\n",
    "c = Car()\n",
    "print(c.get_description())\n",
    "print(c.__engine) #Nos mandará error por que es un método privado"
   ]
  },
  {
   "cell_type": "code",
   "execution_count": 30,
   "metadata": {},
   "outputs": [
    {
     "name": "stdout",
     "output_type": "stream",
     "text": [
      "AudiR8 is the car\n",
      "Accessing  Private Method:  5.2 L V10\n"
     ]
    }
   ],
   "source": [
    "#Para acceder a los métodos u objetos privados podemos hacer lo siguiente\n",
    "class Car:\n",
    "    def __init__(self):\n",
    "        self.brand_name = 'Audi'\n",
    "        self.model = 'R8'\n",
    "        self.__engine_name = '5.2 L V10'\n",
    "    \n",
    "    def __engine(self):\n",
    "        return '5.2 L V10'\n",
    "    \n",
    "    def get_description(self):\n",
    "        return self.brand_name + '' + self.model + ' is the car'\n",
    "\n",
    "car = Car()\n",
    "print(c.get_description())\n",
    "print(\"Accessing  Private Method: \", c._Car__engine())\n",
    "#print(\"Accessing  Private Variable: \", c._Car__engine_name)"
   ]
  },
  {
   "cell_type": "code",
   "execution_count": 33,
   "metadata": {},
   "outputs": [
    {
     "data": {
      "text/plain": [
       "<function __main__.my_decorator.<locals>.wrapper()>"
      ]
     },
     "execution_count": 33,
     "metadata": {},
     "output_type": "execute_result"
    }
   ],
   "source": [
    "#Decoradores\n",
    "#Método 1\n",
    "def my_decorator(func):\n",
    "    def wrapper():\n",
    "        print(\"Line number 1\")\n",
    "        func()\n",
    "        print(\"Line number 3\")\n",
    "    return wrapper\n",
    "\n",
    "def say_hello():\n",
    "    print(\"Hello Im line number 2\")\n",
    "\n",
    "say_hello = my_decorator(say_hello)\n",
    "say_hello"
   ]
  },
  {
   "cell_type": "code",
   "execution_count": 34,
   "metadata": {},
   "outputs": [
    {
     "name": "stdout",
     "output_type": "stream",
     "text": [
      "Line number 1\n",
      "Hello Im line number 2\n",
      "Line number 3\n"
     ]
    }
   ],
   "source": [
    "say_hello()"
   ]
  },
  {
   "cell_type": "code",
   "execution_count": 36,
   "metadata": {},
   "outputs": [
    {
     "name": "stdout",
     "output_type": "stream",
     "text": [
      "Line number 1\n",
      "Hello Im line number 2\n",
      "Line number 3\n"
     ]
    }
   ],
   "source": [
    "#Metodo 2\n",
    "def my_decorator(func):\n",
    "    def wrapper():\n",
    "        print(\"Line number 1\")\n",
    "        func()\n",
    "        print(\"Line number 3\")\n",
    "    return wrapper\n",
    "\n",
    "@my_decorator\n",
    "def say_hello():\n",
    "    print(\"Hello Im line number 2\")\n",
    "\n",
    "say_hello()"
   ]
  },
  {
   "cell_type": "code",
   "execution_count": 37,
   "metadata": {},
   "outputs": [
    {
     "name": "stdout",
     "output_type": "stream",
     "text": [
      "Something went wrong\n"
     ]
    }
   ],
   "source": [
    "#Excepciones\n",
    "try:\n",
    "    print(value)\n",
    "except:\n",
    "    print(\"Something went wrong\")"
   ]
  },
  {
   "cell_type": "code",
   "execution_count": 38,
   "metadata": {},
   "outputs": [
    {
     "name": "stdout",
     "output_type": "stream",
     "text": [
      "name 'value' is not defined\n"
     ]
    }
   ],
   "source": [
    "#Podemos ver que fue lo que salio mal de la siguiente manera\n",
    "try:\n",
    "    print(value)\n",
    "except Exception as e:\n",
    "    print(e)"
   ]
  },
  {
   "cell_type": "code",
   "execution_count": 42,
   "metadata": {},
   "outputs": [
    {
     "data": {
      "text/plain": [
       "{'username': 'Sharvin', 'age': '1000'}"
      ]
     },
     "execution_count": 42,
     "metadata": {},
     "output_type": "execute_result"
    }
   ],
   "source": [
    "#Si tenemos una cadenaJSON y se desea convertir en un dicc se usa loads\n",
    "import json\n",
    "json_string = '{\"username\":\"Sharvin\",\"age\":\"1000\"}'\n",
    "type(json_string)\n",
    "\n",
    "data = json.loads(json_string)\n",
    "type(data)\n",
    "data"
   ]
  },
  {
   "cell_type": "code",
   "execution_count": 45,
   "metadata": {},
   "outputs": [
    {
     "data": {
      "text/plain": [
       "'{\"username\": \"Sharvin\", \"age\": \"1000\"}'"
      ]
     },
     "execution_count": 45,
     "metadata": {},
     "output_type": "execute_result"
    }
   ],
   "source": [
    "#Para volverlo a modo cadena JSON podemos usar\n",
    "jsonString = json.dumps(data)\n",
    "type(jsonString)\n",
    "jsonString"
   ]
  },
  {
   "cell_type": "code",
   "execution_count": null,
   "metadata": {},
   "outputs": [],
   "source": []
  }
 ],
 "metadata": {
  "kernelspec": {
   "display_name": "Python 3",
   "language": "python",
   "name": "python3"
  },
  "language_info": {
   "codemirror_mode": {
    "name": "ipython",
    "version": 3
   },
   "file_extension": ".py",
   "mimetype": "text/x-python",
   "name": "python",
   "nbconvert_exporter": "python",
   "pygments_lexer": "ipython3",
   "version": "3.12.2"
  }
 },
 "nbformat": 4,
 "nbformat_minor": 2
}
